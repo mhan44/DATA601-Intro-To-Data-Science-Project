{
 "cells": [
  {
   "cell_type": "markdown",
   "id": "d4a1fadc",
   "metadata": {},
   "source": [
    "# Classification Models for Credit Card Fraud Detection on an Imbalanced Dataset\n",
    "### University of Maryland, Baltimore County (UMBC): DATA601 - Intro to Data Science Project  \n",
    "#### Matthew Han - mhan4@umbc.edu, Abhinaya Mudunuri - hu03574@umbc.edu, Suhani Kalpeshkumar Shah - suhanis1@umbc.edu"
   ]
  },
  {
   "cell_type": "markdown",
   "id": "b7c04fbc",
   "metadata": {},
   "source": [
    "We import necessary libraries and define the class Transaction, which holds all the predictive features for each row/instance in creditcard.csv.\n",
    "Also initialize all_transactions which holds all instances of Transaction loaded from creditcard.csv"
   ]
  },
  {
   "cell_type": "code",
   "execution_count": 55,
   "id": "b60f38a1",
   "metadata": {},
   "outputs": [],
   "source": [
    "#%pip install csv\n",
    "#%pip install numpy\n",
    "#%pip install pandas\n",
    "#%pip install imblearn\n",
    "#%pip install matplotlib"
   ]
  },
  {
   "cell_type": "code",
   "execution_count": 56,
   "id": "52080d43",
   "metadata": {},
   "outputs": [],
   "source": [
    "import csv\n",
    "import numpy as np\n",
    "import pandas as pd\n",
    "import matplotlib.pyplot as plt\n",
    "import imblearn\n",
    "import copy\n",
    "\n",
    "class Transaction:\n",
    "    def __init__(self, row):\n",
    "        self.Time = row[0]\n",
    "        self.V = row[1:29] \n",
    "        self.Amount = row[29]\n",
    "        self.Class = row[30]\n",
    "\n",
    "all_transactions = [] #List of all transactions from the .csv file"
   ]
  },
  {
   "cell_type": "markdown",
   "id": "d81a7601",
   "metadata": {},
   "source": [
    "Open creditcard.csv and cast each row to an new instance of Transaction, then append each new instance to all_transactions."
   ]
  },
  {
   "cell_type": "code",
   "execution_count": 57,
   "id": "43c4afc0",
   "metadata": {},
   "outputs": [
    {
     "name": "stdout",
     "output_type": "stream",
     "text": [
      "['Time', 'V1', 'V2', 'V3', 'V4', 'V5', 'V6', 'V7', 'V8', 'V9', 'V10', 'V11', 'V12', 'V13', 'V14', 'V15', 'V16', 'V17', 'V18', 'V19', 'V20', 'V21', 'V22', 'V23', 'V24', 'V25', 'V26', 'V27', 'V28', 'Amount', 'Class']\n"
     ]
    }
   ],
   "source": [
    "f = open('./creditcard.csv',newline='') #Open the csv file\n",
    "reader = csv.reader(f, delimiter=',', quoting=csv.QUOTE_NONNUMERIC) #quoting=csv.QUOTE_NONNUMERIC places quotes around any values that are not integers/floats/numeric\n",
    "\n",
    "print(next(reader))\n",
    "\n",
    "next(reader) #Iterate to next row to skip the first row that is just the labels for each column\n",
    "for row in reader: # A list of rows\n",
    "    NewTransaction = Transaction(row) #Create new Transaction instance, and load the data from the csv file\n",
    "    all_transactions.append(NewTransaction) #Append the instance to the total list of all transactions\n",
    "\n",
    "f.close() #Close file after loading is finished"
   ]
  },
  {
   "cell_type": "markdown",
   "id": "175256c1",
   "metadata": {},
   "source": [
    "Bar graph visualization of the dataset class distribution"
   ]
  },
  {
   "cell_type": "code",
   "execution_count": 58,
   "id": "7ca14ae6",
   "metadata": {},
   "outputs": [
    {
     "data": {
      "image/png": "[encoded data removed]",
      "text/plain": [
       "<Figure size 640x480 with 1 Axes>"
      ]
     },
     "metadata": {},
     "output_type": "display_data"
    }
   ],
   "source": [
    "#Extract class values from the data\n",
    "class_distribution = []\n",
    "for each in all_transactions:\n",
    "    class_distribution.append(each.Class)\n",
    "\n",
    "#Count cases where class=1 and class=0\n",
    "count_fraud = 0\n",
    "count_not_fraud = 0\n",
    "for each in class_distribution:\n",
    "    if each == '0':\n",
    "        count_not_fraud += 1\n",
    "    elif each == '1':\n",
    "        count_fraud += 1\n",
    "\n",
    "#Define labels and values for the bar graph\n",
    "label = ['Fraud','Not Fraud']\n",
    "values = [count_fraud, count_not_fraud]\n",
    "\n",
    "#Plot the bargraph, set ylimit to 500k and add text to each bar, which lists the total count and percentage representation of each class\n",
    "fig, ax = plt.subplots()\n",
    "ax.bar(label, values)\n",
    "ax.set_ylim(0, 500000)\n",
    "for i in range(len(values)):\n",
    "    ax.text(i, values[i], str(values[i])+'\\n'+'('+str(round(values[i]/len(class_distribution)*100,3))+'%'+')', ha='center', va='bottom')\n"
   ]
  },
  {
   "cell_type": "markdown",
   "id": "46c4a6da",
   "metadata": {},
   "source": [
    "We now shift to the training phase of the classification models. Due to the dataset being extremely unbalanced we apply the Synthetic Minority Oversampling Technique (SMOTE) to oversample (generate) fake cases of the minority class: where Class=1(fraud=true)."
   ]
  },
  {
   "cell_type": "code",
   "execution_count": null,
   "id": "01bbc5cb",
   "metadata": {},
   "outputs": [
    {
     "name": "stdout",
     "output_type": "stream",
     "text": [
      "0.7999971910704129\n",
      "0.20000280892958716\n",
      "284806\n"
     ]
    }
   ],
   "source": [
    "training_data = [] #80% of original dataset\n",
    "test_data = [] #The remaining 20%\n",
    "percent80 = int(len(all_transactions) * 0.8) #Index of the dataset at the 80% cutoff\n",
    "\n",
    "training_data = all_transactions[:percent80]\n",
    "test_data = all_transactions[percent80:]\n",
    "print(len(training_data) / len(all_transactions))\n",
    "print(len(test_data) / len(all_transactions))\n",
    "print(len(all_transactions))\n",
    "\n",
    "features = [] #extract features/attributes from the training dataset to use in oversampling\n",
    "classes = []\n",
    "for each in training_data:\n",
    "    temp = []\n",
    "    temp.append(each.Time)\n",
    "    temp.extend(each.V)\n",
    "    temp.append(each.Amount)\n",
    "    features.append(temp)\n",
    "    classes.append(each.Class)\n",
    "      \n",
    "\"\"\"count = 0\n",
    "for each in training_data:\n",
    "    if each.Class == '1':\n",
    "        count += 1\n",
    "print(count)\n",
    "\"\"\"\n",
    "oversample = imblearn.over_sampling.SMOTE()\n",
    "features, classes = oversample.fit_resample(features, classes)\n",
    "\n"
   ]
  },
  {
   "cell_type": "code",
   "execution_count": null,
   "id": "458a29cd",
   "metadata": {},
   "outputs": [],
   "source": []
  }
 ],
 "metadata": {
  "kernelspec": {
   "display_name": "Python 3",
   "language": "python",
   "name": "python3"
  },
  "language_info": {
   "codemirror_mode": {
    "name": "ipython",
    "version": 3
   },
   "file_extension": ".py",
   "mimetype": "text/x-python",
   "name": "python",
   "nbconvert_exporter": "python",
   "pygments_lexer": "ipython3",
   "version": "3.13.7"
  }
 },
 "nbformat": 4,
 "nbformat_minor": 5
}
