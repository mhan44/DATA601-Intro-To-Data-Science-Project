{
 "cells": [
  {
   "cell_type": "markdown",
   "id": "d4a1fadc",
   "metadata": {},
   "source": [
    "# Classification Models for Credit Card Fraud Detection on an Imbalanced Dataset\n",
    "### University of Maryland, Baltimore County (UMBC): DATA604 – Data Management Project  \n",
    "#### Matthew Han - mhan4@umbc.edu, Abhinaya Mudunuri - hu03574@umbc.edu, Suhani Kalpeshkumar Shah - suhanis1@umbc.edu"
   ]
  },
  {
   "cell_type": "markdown",
   "id": "b7c04fbc",
   "metadata": {},
   "source": [
    "We import necessary libraries and define the class Transaction, which holds all the predictive features for each row/instance in creditcard.csv.\n",
    "Also initialize all_transactions which holds all instances of Transaction loaded from creditcard.csv"
   ]
  },
  {
   "cell_type": "code",
   "execution_count": 10,
   "id": "52080d43",
   "metadata": {},
   "outputs": [],
   "source": [
    "import numpy as np\n",
    "import csv\n",
    "import pandas as pd\n",
    "\n",
    "class Transaction:\n",
    "    def __init__(self, row):\n",
    "        self.Time = row[0]\n",
    "        self.V = row[1:29] \n",
    "        self.Amount = row[29]\n",
    "        self.Class = row[30]\n",
    "\n",
    "all_transactions = [] #List of all transactions from the .csv file"
   ]
  },
  {
   "cell_type": "markdown",
   "id": "d81a7601",
   "metadata": {},
   "source": [
    "Open creditcard.csv and cast each row to an new instance of Transaction, then append each new instance to all_transactions."
   ]
  },
  {
   "cell_type": "code",
   "execution_count": null,
   "id": "43c4afc0",
   "metadata": {},
   "outputs": [],
   "source": [
    "f = open('./creditcard.csv',newline='') #Open the csv file\n",
    "reader = csv.reader(f, delimiter=',', quoting=csv.QUOTE_NONNUMERIC) #quoting=csv.QUOTE_NONNUMERIC places quotes around any values that are not integers/floats/numeric\n",
    "\n",
    "next(reader) #Iterate to next row to skip the first row that is just the labels for each column\n",
    "for row in reader: # A list of rows\n",
    "    NewTransaction = Transaction(row) #Create new Transaction instance, and load the data from the csv file\n",
    "    all_transactions.append(NewTransaction) #Append the instance to the total list of all transactions\n",
    "\n",
    "f.close() #Close file after loading is finished"
   ]
  }
 ],
 "metadata": {
  "kernelspec": {
   "display_name": "Python 3",
   "language": "python",
   "name": "python3"
  },
  "language_info": {
   "codemirror_mode": {
    "name": "ipython",
    "version": 3
   },
   "file_extension": ".py",
   "mimetype": "text/x-python",
   "name": "python",
   "nbconvert_exporter": "python",
   "pygments_lexer": "ipython3",
   "version": "3.13.7"
  }
 },
 "nbformat": 4,
 "nbformat_minor": 5
}
